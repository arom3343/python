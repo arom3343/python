{
 "cells": [
  {
   "cell_type": "markdown",
   "metadata": {},
   "source": [
    "## 實作練習一"
   ]
  },
  {
   "cell_type": "code",
   "execution_count": 10,
   "metadata": {},
   "outputs": [
    {
     "name": "stdout",
     "output_type": "stream",
     "text": [
      "請輸入成績:50\n",
      "丁等\n"
     ]
    }
   ],
   "source": [
    "score = input(\"請輸入成績:\")\n",
    "int(score)\n",
    "if(int(score)>=90):\n",
    "    print(\"優等\")\n",
    "elif(int(score)>=80):\n",
    "    print(\"甲等\")\n",
    "elif(int(score)>=70):\n",
    "    print(\"乙等\")\n",
    "elif(int(score)>=60):\n",
    "    print(\"丙等\")\n",
    "else:\n",
    "    print(\"丁等\")"
   ]
  },
  {
   "cell_type": "markdown",
   "metadata": {},
   "source": [
    "## 實作練習二"
   ]
  },
  {
   "cell_type": "code",
   "execution_count": 11,
   "metadata": {},
   "outputs": [
    {
     "name": "stdout",
     "output_type": "stream",
     "text": [
      "請輸入正整數:5\n",
      "15\n"
     ]
    }
   ],
   "source": [
    "score = int(input(\"請輸入正整數:\"))\n",
    "sum = 0\n",
    "for n in range(1,score+1):\n",
    "    sum+=n\n",
    "print(sum)"
   ]
  },
  {
   "cell_type": "markdown",
   "metadata": {},
   "source": [
    "## 實作練習五"
   ]
  },
  {
   "cell_type": "code",
   "execution_count": 12,
   "metadata": {},
   "outputs": [
    {
     "name": "stdout",
     "output_type": "stream",
     "text": [
      "請輸入正整數:21\n",
      "1\n",
      "2\n",
      "3\n",
      "4\n",
      "6\n",
      "7\n",
      "8\n",
      "9\n",
      "11\n",
      "12\n",
      "13\n",
      "14\n",
      "16\n",
      "17\n",
      "18\n",
      "19\n",
      "21\n"
     ]
    }
   ],
   "source": [
    "score = int(input(\"請輸入正整數:\"))\n",
    "for n in range(1,score+1):\n",
    "    if(n%5==0):\n",
    "        continue\n",
    "    print(n);"
   ]
  },
  {
   "cell_type": "markdown",
   "metadata": {},
   "source": [
    "## 實作練習六"
   ]
  },
  {
   "cell_type": "code",
   "execution_count": 9,
   "metadata": {},
   "outputs": [
    {
     "name": "stdout",
     "output_type": "stream",
     "text": [
      "請輸入正整數5\n",
      "5 !=\n",
      "120\n"
     ]
    }
   ],
   "source": [
    "score = int(input(\"請輸入正整數:\"))\n",
    "a=1\n",
    "sum=1;\n",
    "while(a<=score):\n",
    "    sum*=a\n",
    "    a+=1\n",
    "print(score,\"!=\")\n",
    "print(sum)\n"
   ]
  },
  {
   "cell_type": "code",
   "execution_count": null,
   "metadata": {},
   "outputs": [],
   "source": []
  }
 ],
 "metadata": {
  "kernelspec": {
   "display_name": "Python 3",
   "language": "python",
   "name": "python3"
  }
 },
 "nbformat": 4,
 "nbformat_minor": 2
}
